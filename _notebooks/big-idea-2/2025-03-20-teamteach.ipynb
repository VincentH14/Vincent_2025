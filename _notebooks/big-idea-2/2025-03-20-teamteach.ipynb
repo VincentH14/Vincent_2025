{
 "cells": [
  {
   "cell_type": "markdown",
   "metadata": {},
   "source": [
    "# Big Idea 5.1"
   ]
  },
  {
   "cell_type": "markdown",
   "metadata": {},
   "source": [
    "## Popcorn Hack 1\n",
    "\n",
    "Positive: Chat GPT allows people to do a variety of tasks much more efficently and accuratley.\n",
    "Negative: Deepfake technology can lead to detrimental effects on people due to the spread of false information."
   ]
  }
 ],
 "metadata": {
  "language_info": {
   "name": "python"
  }
 },
 "nbformat": 4,
 "nbformat_minor": 2
}
