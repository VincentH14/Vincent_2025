{
 "cells": [
  {
   "cell_type": "markdown",
   "metadata": {},
   "source": [
    "---\n",
    "layout: post \n",
    "title: Reflection\n",
    "description: A final reflection\n",
    "courses: {csp: {week: 1} }\n",
    "comments: true \n",
    "sticky_rank: 1 \n",
    "---"
   ]
  },
  {
   "cell_type": "markdown",
   "metadata": {},
   "source": [
    "<h1>Lessons</h1>\n",
    "\n",
    "<table>\n",
    "    <tr>\n",
    "        <td><img src=\"{{site.baseurl}}/3.1\" height =\"60\" title =\"Team Teaches\" alt=\"\"></td>\n",
    "        <td><a href=\"{{site.baseurl}}/3.1\">3.1</a></td>\n",
    "        <td><a href=\"{{site.baseurl}}/3.2\">3.2</a></td>\n",
    "        <td><a href=\"{{site.baseurl}}/3.4\">3.4</a></td>\n",
    "        <td><a href=\"{{site.baseurl}}/3.6\">3.6</a></td>\n",
    "        <td><a href=\"{{site.baseurl}}/3.7\">3.7</a></td>\n",
    "        <td><a href=\"{{site.baseurl}}/3.8\">3.8</a></td>\n",
    "        <td><a href=\"{{site.baseurl}}/3.10\">3.10</a></td>\n",
    "        <td><a href=\"{{site.baseurl}}/Achievements\">Achievements</a></td>\n",
    "    </tr>\n",
    "</table>"
   ]
  },
  {
   "cell_type": "markdown",
   "metadata": {},
   "source": [
    "<h1>Sprint 2 Issue</h1>\n",
    "\n",
    "\n",
    "| **Assignment**             | **Points**    | **Grade** | **Evidence** |\n",
    "|----------------------------|---------------|-----------|--------------|\n",
    "| Pull Request (Integration) | 1            |     0.80      |   We were late on our pull request so I didnt think we deserved full points but in the end we figured it out |\n",
    "| Relevancy Checklist (Peer) | 2             |     0.85      |    Our checklist was good and easy to follow for our peers and I followed the rules of the checklist          |\n",
    "| Lesson Style (Period)      | 1             |    0.88       |    Our lesson was good and we understood the concept fairly well although we had one mistake with the javascript in our hacks      |\n",
    "| Homework, Popcorn Hacks    | 1 x 5         |     0.88     |    Our hacks were good and engaging although we had some mistakes with our javascript hacks          |\n",
    "| Individual Contribution    | 1             |      0.85     |      I feel like I could have contributed more consitently to our group, I mainly put in most effort at the very end      |\n",
    "| Personal Notebooks / Blogs | 1             |    0.8       |   I was late in my submissions for my personal notebooks        |\n",
    "| Total                      | 11            |           |              |\n",
    "\n",
    "\n",
    "| **Skill**                  | **Points**    | **Grade** | **Evidence** |\n",
    "|----------------------------|---------------|-----------|--------------|\n",
    "| Work Habits (Analytics)    |   1           |      0.85     |       We consitnently worked on our project in class. I still need to commit more       |\n",
    "| Team Planning (Issue)      |   1           |       0.85    |      I think we couldve planned better, i was sick for a few days and it kind of messed up our planning       |\n",
    "| Presentation Memories      |   1           |    0.9       |     My groups presenetation was well thought out        |\n",
    "| Grading and Feedback       |   1           |    0.9       |        I graded very fast and gave good feedback to others     |\n",
    "| Beyond Perfunctory         |   1           |      0.85     |    I believe I presented very well, Mr M. beleived I understoof my concepts well          | \n"
   ]
  },
  {
   "cell_type": "markdown",
   "metadata": {},
   "source": [
    "<h1>Grading</h1>\n",
    "\n",
    "In grading the assignments, I looked for creativity and originality, as well as work completion, as these elements are essential for evaluating the depth and quality of the students' work. Creativity involves not only the uniqueness of ideas but also the ability to approach the assignment from different perspectives and to think outside the box. I sought innovative approaches that demonstrated a personal touch or an inventive interpretation of the topic, as this shows engagement and critical thinking."
   ]
  },
  {
   "cell_type": "markdown",
   "metadata": {},
   "source": [
    "<h1>Teaching</h1>\n",
    "\n",
    "Teaching 3.3 and 3.5 lessons has helped me learn the meterial involving boolean values and mathmatical expressions better because I had to really understand the material to explain it to others. When I taught, I broke down complex ideas and organized my thoughts, which deepened my comprehension. I also had to think about questions others might ask, which helped me spot any gaps in my own understanding. This process kept me actively engaged with the conent, making it more memorable. Overall, teaching is not only a reinforcement of what I know, but it also builds important skills like communication, problem-solving, and leading to a better learning experience. \n",
    "\n",
    "<a href=\"https://nighthawkcoders.github.io/portfolio_2025/csp/big-idea/p2/3-3\">\n",
    "<button class=\"button .button1\">Lesson 3.3 and 3.5</button></a>"
   ]
  },
  {
   "cell_type": "markdown",
   "metadata": {},
   "source": [
    "<h1>Learning</h1>\n",
    "\n",
    "Through all the homework and popcorn hacks that we did in class and at home, I believe that I've understood each lesson to an acceptable and valuable extent. From where I began in CSP to now, I think that I've definitely improved my coding skills with these lessons. Because my peers were teaching me, it made the experience memorable and overall helped me understand the material better. "
   ]
  }
 ],
 "metadata": {
  "language_info": {
   "name": "python"
  }
 },
 "nbformat": 4,
 "nbformat_minor": 2
}
