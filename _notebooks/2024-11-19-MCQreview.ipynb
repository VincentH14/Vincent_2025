{
 "cells": [
  {
   "cell_type": "markdown",
   "metadata": {
    "vscode": {
     "languageId": "plaintext"
    }
   },
   "source": [
    "---\n",
    "layout: post\n",
    "types: hacks\n",
    "title: MCQ review\n",
    "description: A reveiw of the MCQ\n",
    "toc: true\n",
    "comments: true\n",
    "---"
   ]
  },
  {
   "cell_type": "markdown",
   "metadata": {},
   "source": [
    "# MCQ Review \n",
    "\n",
    "I scored a 43/66 on the MCQ for APCSP, I believe this was a very good score because I didnt feel like I put in my best effort last trimester and this did reflect this. But its better than what I expected and I got many tough questions right, showing my immediate progress this trimester compared to last. My breakdown of my problem areas are below"
   ]
  },
  {
   "cell_type": "markdown",
   "metadata": {},
   "source": [
    "## Breakdown\n",
    "\n",
    "### Big Ideas\n",
    "AAP: ALGORITHMS AND PROGRAMMING -- 65%  \n",
    "CRD: CREATIVE DEVELOPMENT -- 40%  \n",
    "CSN: COMPUTING SYSTEMS AND NETWORKS -- 75%  \n",
    "DAT: DATA -- 56%  \n",
    "IOC: IMPACT OF COMPUTING -- 82%  \n",
    "\n",
    "### Practice\n",
    "Practice 1: Design and evaluate computational solutions for a purpose. -- 41%  \n",
    "Practice 2: Develop and implement algorithms. -- 91%  \n",
    "Practice 3: Develop programs that incorporate abstractions. -- 56%  \n",
    "Practice 4: Evaluate and test algorithms and programs. -- 50%  \n",
    "Practice 5: Investigate computing innovations. -- 84%  \n"
   ]
  }
 ],
 "metadata": {
  "language_info": {
   "name": "python"
  }
 },
 "nbformat": 4,
 "nbformat_minor": 2
}
