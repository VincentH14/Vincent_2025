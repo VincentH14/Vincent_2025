{
 "cells": [
  {
   "cell_type": "markdown",
   "metadata": {},
   "source": [
    "---\n",
    "layout: post \n",
    "title: Binary Calculator Feature Blog\n",
    "description: Binary calc feature blog\n",
    "courses: {csp: {week: 1} }\n",
    "comments: true \n",
    "sticky_rank: 1 \n",
    "---"
   ]
  },
  {
   "cell_type": "markdown",
   "metadata": {},
   "source": [
    "# Overview of Binary Caluclator\n",
    "\n",
    "The functions of the binary calculator include the ability to to perform operations on an 8-bit binary number. It displays the value in multiple numeral systems (binary, octal, decimal, and hexadecimal) and lets users adjust bits individually via \"on/off\" toggles or add/subtract operations. The interface includes a responsive design, with interactive buttons and visual feedback to indicate active bits."
   ]
  },
  {
   "cell_type": "markdown",
   "metadata": {},
   "source": [
    "## Purpose\n",
    "\n",
    "Our team hopes that this interaction with the Big Idea 2 material and the creation of this calculator will allow you to better understand and get a grasp on the topic."
   ]
  },
  {
   "cell_type": "markdown",
   "metadata": {},
   "source": [
    "## Overview of Code\n",
    "\n",
    "## API\n",
    "\n",
    "### Increment and Decrememnt Counter"
   ]
  },
  {
   "cell_type": "code",
   "execution_count": null,
   "metadata": {
    "vscode": {
     "languageId": "plaintext"
    }
   },
   "outputs": [],
   "source": [
    "   @app.route('/increment', methods=['POST'])\n",
    "   def increment_counter():\n",
    "       \"\"\"Increments the counter value in the database.\"\"\"\n",
    "       calc = binaryCalc.query.first()\n",
    "       if not calc:\n",
    "           return jsonify({\"error\": \"Counter not initialized in the database.\"}), 400\n",
    "\n",
    "\n",
    "       calc._decimal_value += 1\n",
    "       try:\n",
    "           calc.update()\n",
    "           conversions = calculate_conversions(calc._decimal_value)\n",
    "           return jsonify(conversions)\n",
    "       except Exception as e:\n",
    "           return jsonify({\"error\": str(e)}), 500"
   ]
  }
 ],
 "metadata": {
  "kernelspec": {
   "display_name": "venv",
   "language": "python",
   "name": "python3"
  },
  "language_info": {
   "codemirror_mode": {
    "name": "ipython",
    "version": 3
   },
   "file_extension": ".py",
   "mimetype": "text/x-python",
   "name": "python",
   "nbconvert_exporter": "python",
   "pygments_lexer": "ipython3",
   "version": "3.12.5"
  }
 },
 "nbformat": 4,
 "nbformat_minor": 2
}
